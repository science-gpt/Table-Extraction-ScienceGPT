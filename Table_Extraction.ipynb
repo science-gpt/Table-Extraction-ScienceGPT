{
  "cells": [
    {
      "cell_type": "markdown",
      "metadata": {
        "id": "n-BhLQBRgvxT"
      },
      "source": [
        "# Installation"
      ]
    },
    {
      "cell_type": "code",
      "execution_count": null,
      "metadata": {
        "id": "rpd6oXT3erbV"
      },
      "outputs": [],
      "source": [
        "#!sudo apt install tesseract-ocr\n",
        "!pip install pytesseract transformers ultralyticsplus==0.0.23 ultralytics==8.0.21\n",
        "!pip install pymupdf \"unstructured[pdf]\" pdfminer.six pillow-heif\n",
        "#!sudo apt-get install poppler-utils"
      ]
    },
    {
      "cell_type": "code",
      "execution_count": null,
      "metadata": {},
      "outputs": [],
      "source": [
        "!pip install pdf2image"
      ]
    },
    {
      "cell_type": "code",
      "execution_count": 10,
      "metadata": {},
      "outputs": [
        {
          "name": "stdout",
          "output_type": "stream",
          "text": [
            "Successfully installed annotated-types-0.7.0 anyio-4.4.0 distro-1.9.0 h11-0.14.0 httpcore-1.0.5 httpx-0.27.0 jsonpatch-1.33 jsonpointer-3.0.0 langchain-core-0.2.26 langchain-openai-0.1.20 langsmith-0.1.95 openai-1.37.1 orjson-3.10.6 pydantic-2.8.2 pydantic-core-2.20.1 sniffio-1.3.1 tenacity-8.5.0 tiktoken-0.7.0\n",
            "\u001b[33mWARNING: You are using pip version 20.2.3; however, version 24.2 is available.\n",
            "You should consider upgrading via the '/Users/amaan/Table-Extraction-ScienceGPT/myenv/bin/python3.9 -m pip install --upgrade pip' command.\u001b[0m\n"
          ]
        }
      ],
      "source": [
        "!pip install langchain_openai"
      ]
    },
    {
      "cell_type": "code",
      "execution_count": null,
      "metadata": {},
      "outputs": [],
      "source": [
        "!pip install python-dotenv"
      ]
    },
    {
      "cell_type": "markdown",
      "metadata": {},
      "source": [
        "# Imports"
      ]
    },
    {
      "cell_type": "code",
      "execution_count": 22,
      "metadata": {
        "id": "KSzYbAn0gz_-"
      },
      "outputs": [],
      "source": [
        "%%capture\n",
        "import numpy as np\n",
        "import pandas as pd\n",
        "pd.set_option('display.max_rows', 500)\n",
        "pd.set_option('display.max_columns', 500)\n",
        "pd.set_option('display.width', 1000)\n",
        "\n",
        "import pytesseract\n",
        "from pytesseract import Output\n",
        "\n",
        "from ultralyticsplus import YOLO, render_result\n",
        "from PIL import Image\n",
        "from pdf2image import convert_from_path\n",
        "from dotenv import load_dotenv\n",
        "load_dotenv()\n"
      ]
    },
    {
      "cell_type": "markdown",
      "metadata": {},
      "source": [
        "# Define YOLOV8 Model"
      ]
    },
    {
      "cell_type": "code",
      "execution_count": 5,
      "metadata": {
        "id": "vRmW6YHDJ902"
      },
      "outputs": [],
      "source": [
        "%%capture\n",
        "model = YOLO('keremberke/yolov8m-table-extraction')\n",
        "\n",
        "# set model parameters\n",
        "model.overrides['conf'] = 0.25  # NMS confidence threshold\n",
        "model.overrides['iou'] = 0.45  # NMS IoU threshold\n",
        "model.overrides['agnostic_nms'] = False  # NMS class-agnostic\n",
        "model.overrides['max_det'] = 1000"
      ]
    },
    {
      "cell_type": "markdown",
      "metadata": {},
      "source": [
        "# Convert pdf to images"
      ]
    },
    {
      "cell_type": "code",
      "execution_count": 1,
      "metadata": {},
      "outputs": [],
      "source": [
        "import os\n",
        "from pdf2image import convert_from_path\n",
        "\n",
        "\n",
        "def pdf_to_jpg(input_folder, output_folder):\n",
        "    # Ensure the output folder exists\n",
        "    os.makedirs(output_folder, exist_ok=True)\n",
        "\n",
        "    # Iterate over all PDF files in the input folder\n",
        "    for pdf_file in os.listdir(input_folder):\n",
        "        if pdf_file.endswith(\".pdf\"):\n",
        "            pdf_path = os.path.join(input_folder, pdf_file)\n",
        "            pages = convert_from_path(pdf_path, 300)\n",
        "            pdf_name = os.path.splitext(pdf_file)[0]\n",
        "\n",
        "            # Save each page as a JPEG file\n",
        "            for i, page in enumerate(pages):\n",
        "                jpg_path = os.path.join(output_folder, f\"{pdf_name}_page_{i + 1}.jpg\")\n",
        "                page.save(jpg_path, \"JPEG\")\n",
        "                print(f\"Saved {jpg_path}\")"
      ]
    },
    {
      "cell_type": "code",
      "execution_count": null,
      "metadata": {},
      "outputs": [],
      "source": [
        "input_folder = \"./table-docs\"\n",
        "output_folder = \"./output-images\"\n",
        "pdf_to_jpg(input_folder, output_folder)"
      ]
    },
    {
      "cell_type": "markdown",
      "metadata": {},
      "source": [
        "# Extract Table snippet from images"
      ]
    },
    {
      "cell_type": "code",
      "execution_count": 2,
      "metadata": {
        "id": "EC6d4ahvJzVG"
      },
      "outputs": [],
      "source": [
        "def extract_table(file_path):\n",
        "  img = Image.open(file_path)\n",
        "  results = model.predict(img)\n",
        "\n",
        "  print('Boxes: ', results[0].boxes)\n",
        "  render = render_result(model=model, image=img, result=results[0])\n",
        "  cropped_images = []\n",
        "  for i in range(len(results[0])):\n",
        "\n",
        "    x1, y1, x2, y2, _, _ = tuple(int(item) for item in results[0].boxes.data.cpu().numpy()[i])\n",
        "    img = np.array(Image.open(file_path))\n",
        "\n",
        "    cropped_image = img[y1:y2, x1:x2]\n",
        "    cropped_image = Image.fromarray(cropped_image)\n",
        "    cropped_images.append(cropped_image)\n",
        "  return render, cropped_images"
      ]
    },
    {
      "cell_type": "code",
      "execution_count": 8,
      "metadata": {},
      "outputs": [],
      "source": [
        "def process_all_images(input_folder, output_folder):\n",
        "    # Ensure the output folder exists\n",
        "    os.makedirs(output_folder, exist_ok=True)\n",
        "\n",
        "    # Iterate over all image files in the input folder\n",
        "    for image_file in os.listdir(input_folder):\n",
        "        if image_file.endswith(\".jpg\"):\n",
        "            file_path = os.path.join(input_folder, image_file)\n",
        "            render, cropped_images = extract_table(file_path)\n",
        "            image_name = os.path.splitext(image_file)[0]\n",
        "\n",
        "            # Save each cropped image\n",
        "            for i, cropped_image in enumerate(cropped_images):\n",
        "                cropped_image_path = os.path.join(\n",
        "                    output_folder, f\"{image_name}_table_{i + 1}.jpg\"\n",
        "                )\n",
        "                cropped_image.save(cropped_image_path, \"JPEG\")\n",
        "                print(f\"Saved {cropped_image_path}\")"
      ]
    },
    {
      "cell_type": "code",
      "execution_count": 9,
      "metadata": {},
      "outputs": [
        {
          "name": "stderr",
          "output_type": "stream",
          "text": [
            "[W NNPACK.cpp:64] Could not initialize NNPACK! Reason: Unsupported hardware.\n"
          ]
        },
        {
          "name": "stdout",
          "output_type": "stream",
          "text": [
            "Boxes:  tensor([[3.82000e+02, 4.28000e+02, 2.16000e+03, 8.26000e+02, 3.13112e-01, 1.00000e+00]])\n",
            "Saved ./cropped-tables/E - Glyphosate monograph (but it's only the pages with tables)_page_58_table_1.jpg\n",
            "Boxes:  tensor([[2.46000e+02, 3.91000e+02, 3.04100e+03, 1.35100e+03, 5.86140e-01, 1.00000e+00],\n",
            "        [2.52000e+02, 1.48400e+03, 3.03400e+03, 2.03700e+03, 3.94473e-01, 1.00000e+00]])\n",
            "Saved ./cropped-tables/E - Glyphosate monograph (but it's only the pages with tables)_page_64_table_1.jpg\n",
            "Saved ./cropped-tables/E - Glyphosate monograph (but it's only the pages with tables)_page_64_table_2.jpg\n",
            "Boxes:  tensor([[3.88000e+02, 1.82200e+03, 2.14000e+03, 2.99400e+03, 9.21162e-01, 1.00000e+00]])\n",
            "Saved ./cropped-tables/E - Glyphosate monograph (but it's only the pages with tables)_page_70_table_1.jpg\n",
            "Boxes:  tensor([[3.68000e+02, 1.63000e+03, 2.17600e+03, 1.99500e+03, 7.72271e-01, 1.00000e+00],\n",
            "        [3.82000e+02, 3.41000e+02, 2.16500e+03, 9.11000e+02, 7.62610e-01, 1.00000e+00]])\n",
            "Saved ./cropped-tables/E - Glyphosate monograph (but it's only the pages with tables)_page_71_table_1.jpg\n",
            "Saved ./cropped-tables/E - Glyphosate monograph (but it's only the pages with tables)_page_71_table_2.jpg\n",
            "Boxes:  tensor([[2.53000e+02, 0.00000e+00, 3.00500e+03, 2.33800e+03, 6.27964e-01, 1.00000e+00]])\n",
            "Saved ./cropped-tables/E - Glyphosate monograph (but it's only the pages with tables)_page_65_table_1.jpg\n",
            "Boxes:  tensor([[4.02000e+02, 1.06100e+03, 2.10500e+03, 2.97200e+03, 9.19829e-01, 1.00000e+00]])\n",
            "Saved ./cropped-tables/E - Glyphosate monograph (but it's only the pages with tables)_page_59_table_1.jpg\n",
            "Boxes:  tensor([[3.73000e+02, 1.12000e+03, 2.17300e+03, 2.02000e+03, 8.88097e-01, 1.00000e+00]])\n",
            "Saved ./cropped-tables/E - Glyphosate monograph (but it's only the pages with tables)_page_73_table_1.jpg\n",
            "Boxes:  tensor([[2.60000e+02, 3.79000e+02, 3.04100e+03, 8.52000e+02, 6.19701e-01, 1.00000e+00],\n",
            "        [2.63000e+02, 1.11100e+03, 3.20100e+03, 2.04500e+03, 4.10759e-01, 1.00000e+00]])\n",
            "Saved ./cropped-tables/E - Glyphosate monograph (but it's only the pages with tables)_page_67_table_1.jpg\n",
            "Saved ./cropped-tables/E - Glyphosate monograph (but it's only the pages with tables)_page_67_table_2.jpg\n",
            "Boxes:  tensor([[2.26000e+02, 0.00000e+00, 2.98500e+03, 2.23800e+03, 2.85041e-01, 1.00000e+00]])\n",
            "Saved ./cropped-tables/E - Glyphosate monograph (but it's only the pages with tables)_page_66_table_1.jpg\n",
            "Boxes:  tensor([[3.86000e+02, 1.36800e+03, 2.19800e+03, 1.81300e+03, 8.66172e-01, 1.00000e+00]])\n",
            "Saved ./cropped-tables/E - Glyphosate monograph (but it's only the pages with tables)_page_72_table_1.jpg\n",
            "Boxes:  tensor([], size=(0, 6))\n",
            "Boxes:  tensor([], size=(0, 6))\n",
            "Boxes:  tensor([], size=(0, 6))\n",
            "Boxes:  tensor([[2.44000e+02, 0.00000e+00, 3.00700e+03, 2.13200e+03, 4.10161e-01, 1.00000e+00]])\n",
            "Saved ./cropped-tables/E - Glyphosate monograph (but it's only the pages with tables)_page_63_table_1.jpg\n",
            "Boxes:  tensor([], size=(0, 6))\n",
            "Boxes:  tensor([[3.68000e+02, 1.95600e+03, 2.16600e+03, 2.28800e+03, 4.40185e-01, 1.00000e+00],\n",
            "        [3.69000e+02, 1.95600e+03, 2.16300e+03, 2.28800e+03, 3.74254e-01, 0.00000e+00]])\n",
            "Saved ./cropped-tables/E - Glyphosate monograph (but it's only the pages with tables)_page_61_table_1.jpg\n",
            "Saved ./cropped-tables/E - Glyphosate monograph (but it's only the pages with tables)_page_61_table_2.jpg\n",
            "Boxes:  tensor([], size=(0, 6))\n",
            "Boxes:  tensor([[3.63000e+02, 1.60000e+01, 2.15300e+03, 9.91000e+02, 2.75963e-01, 1.00000e+00]])\n",
            "Saved ./cropped-tables/E - Glyphosate monograph (but it's only the pages with tables)_page_49_table_1.jpg\n",
            "Boxes:  tensor([[3.65000e+02, 2.91000e+02, 2.16000e+03, 3.25000e+03, 7.28140e-01, 1.00000e+00]])\n",
            "Saved ./cropped-tables/E - Glyphosate monograph (but it's only the pages with tables)_page_48_table_1.jpg\n",
            "Boxes:  tensor([[3.74000e+02, 1.50000e+03, 2.18300e+03, 1.82700e+03, 3.81241e-01, 1.00000e+00]])\n",
            "Saved ./cropped-tables/E - Glyphosate monograph (but it's only the pages with tables)_page_74_table_1.jpg\n",
            "Boxes:  tensor([[3.77000e+02, 3.29000e+02, 2.16500e+03, 9.03000e+02, 7.30030e-01, 1.00000e+00]])\n",
            "Saved ./cropped-tables/E - Glyphosate monograph (but it's only the pages with tables)_page_60_table_1.jpg\n",
            "Boxes:  tensor([[3.63000e+02, 4.00000e+01, 2.08300e+03, 2.76000e+03, 9.20273e-01, 1.00000e+00]])\n",
            "Saved ./cropped-tables/E - Glyphosate monograph (but it's only the pages with tables)_page_13_table_1.jpg\n",
            "Boxes:  tensor([[3.65000e+02, 2.79000e+02, 2.09000e+03, 3.04900e+03, 9.33774e-01, 1.00000e+00]])\n",
            "Saved ./cropped-tables/E - Glyphosate monograph (but it's only the pages with tables)_page_12_table_1.jpg\n",
            "Boxes:  tensor([[3.65000e+02, 3.30000e+01, 2.15300e+03, 2.11700e+03, 7.69082e-01, 1.00000e+00],\n",
            "        [4.12000e+02, 2.14000e+03, 2.15700e+03, 2.32300e+03, 4.67591e-01, 1.00000e+00]])\n",
            "Saved ./cropped-tables/E - Glyphosate monograph (but it's only the pages with tables)_page_38_table_1.jpg\n",
            "Saved ./cropped-tables/E - Glyphosate monograph (but it's only the pages with tables)_page_38_table_2.jpg\n",
            "Boxes:  tensor([[3.76000e+02, 4.87000e+02, 2.17000e+03, 9.86000e+02, 8.84602e-01, 1.00000e+00],\n",
            "        [3.70000e+02, 2.20200e+03, 2.07700e+03, 2.92100e+03, 8.24435e-01, 1.00000e+00]])\n",
            "Saved ./cropped-tables/E - Glyphosate monograph (but it's only the pages with tables)_page_10_table_1.jpg\n",
            "Saved ./cropped-tables/E - Glyphosate monograph (but it's only the pages with tables)_page_10_table_2.jpg\n",
            "Boxes:  tensor([[3.65000e+02, 2.74000e+02, 2.12100e+03, 2.99200e+03, 9.40162e-01, 1.00000e+00]])\n",
            "Saved ./cropped-tables/E - Glyphosate monograph (but it's only the pages with tables)_page_11_table_1.jpg\n",
            "Boxes:  tensor([[3.71000e+02, 1.08800e+03, 2.15200e+03, 2.94800e+03, 8.61065e-01, 1.00000e+00]])\n",
            "Saved ./cropped-tables/E - Glyphosate monograph (but it's only the pages with tables)_page_39_table_1.jpg\n",
            "Boxes:  tensor([], size=(0, 6))\n",
            "Boxes:  tensor([[3.62000e+02, 2.48500e+03, 2.17900e+03, 2.94100e+03, 7.93019e-01, 1.00000e+00]])\n",
            "Saved ./cropped-tables/E - Glyphosate monograph (but it's only the pages with tables)_page_8_table_1.jpg\n",
            "Boxes:  tensor([[3.75000e+02, 1.83600e+03, 2.30100e+03, 2.00500e+03, 4.87570e-01, 0.00000e+00],\n",
            "        [3.72000e+02, 1.82100e+03, 2.16300e+03, 2.01200e+03, 4.26294e-01, 1.00000e+00]])\n",
            "Saved ./cropped-tables/E - Glyphosate monograph (but it's only the pages with tables)_page_15_table_1.jpg\n",
            "Saved ./cropped-tables/E - Glyphosate monograph (but it's only the pages with tables)_page_15_table_2.jpg\n",
            "Boxes:  tensor([[3.78000e+02, 4.04000e+02, 2.15900e+03, 1.70800e+03, 9.14084e-01, 1.00000e+00]])\n",
            "Saved ./cropped-tables/E - Glyphosate monograph (but it's only the pages with tables)_page_29_table_1.jpg\n",
            "Boxes:  tensor([[3.68000e+02, 9.93000e+02, 2.14300e+03, 1.32200e+03, 5.62353e-01, 1.00000e+00]])\n",
            "Saved ./cropped-tables/E - Glyphosate monograph (but it's only the pages with tables)_page_28_table_1.jpg\n",
            "Boxes:  tensor([[3.71000e+02, 6.03000e+02, 2.17300e+03, 2.35600e+03, 8.81622e-01, 1.00000e+00]])\n",
            "Saved ./cropped-tables/E - Glyphosate monograph (but it's only the pages with tables)_page_14_table_1.jpg\n",
            "Boxes:  tensor([], size=(0, 6))\n",
            "Boxes:  tensor([], size=(0, 6))\n",
            "Boxes:  tensor([[3.64000e+02, 1.80700e+03, 2.16100e+03, 2.36900e+03, 8.22482e-01, 1.00000e+00]])\n",
            "Saved ./cropped-tables/E - Glyphosate monograph (but it's only the pages with tables)_page_17_table_1.jpg\n",
            "Boxes:  tensor([[2.49000e+02, 5.09000e+02, 3.01300e+03, 1.93800e+03, 5.81379e-01, 1.00000e+00]])\n",
            "Saved ./cropped-tables/D - Table 47 (ultra complex)_page_7_table_1.jpg\n",
            "Boxes:  tensor([[3.66000e+02, 1.33400e+03, 2.18100e+03, 2.10200e+03, 9.44985e-01, 1.00000e+00],\n",
            "        [3.69000e+02, 0.00000e+00, 2.17400e+03, 4.78000e+02, 4.91716e-01, 1.00000e+00]])\n",
            "Saved ./cropped-tables/E - Glyphosate monograph (but it's only the pages with tables)_page_7_table_1.jpg\n",
            "Saved ./cropped-tables/E - Glyphosate monograph (but it's only the pages with tables)_page_7_table_2.jpg\n",
            "Boxes:  tensor([[3.78000e+02, 1.26000e+03, 2.17500e+03, 1.83900e+03, 8.77489e-01, 1.00000e+00]])\n",
            "Saved ./cropped-tables/E - Glyphosate monograph (but it's only the pages with tables)_page_26_table_1.jpg\n",
            "Boxes:  tensor([[3.64000e+02, 9.70000e+02, 2.14500e+03, 1.40300e+03, 7.65585e-01, 1.00000e+00],\n",
            "        [3.65000e+02, 2.02800e+03, 2.18400e+03, 2.33000e+03, 3.12553e-01, 0.00000e+00]])\n",
            "Saved ./cropped-tables/E - Glyphosate monograph (but it's only the pages with tables)_page_32_table_1.jpg\n",
            "Saved ./cropped-tables/E - Glyphosate monograph (but it's only the pages with tables)_page_32_table_2.jpg\n",
            "Boxes:  tensor([[3.65000e+02, 1.56400e+03, 2.18100e+03, 1.90000e+03, 3.38286e-01, 1.00000e+00],\n",
            "        [3.63000e+02, 1.57600e+03, 2.17800e+03, 1.90000e+03, 3.28073e-01, 0.00000e+00]])\n",
            "Saved ./cropped-tables/E - Glyphosate monograph (but it's only the pages with tables)_page_33_table_1.jpg\n",
            "Saved ./cropped-tables/E - Glyphosate monograph (but it's only the pages with tables)_page_33_table_2.jpg\n",
            "Boxes:  tensor([[3.82000e+02, 1.86100e+03, 2.14900e+03, 2.51700e+03, 9.00804e-01, 1.00000e+00]])\n",
            "Saved ./cropped-tables/E - Glyphosate monograph (but it's only the pages with tables)_page_27_table_1.jpg\n",
            "Boxes:  tensor([[4.03000e+02, 3.71000e+02, 2.17300e+03, 1.75300e+03, 8.89971e-01, 1.00000e+00],\n",
            "        [3.61000e+02, 2.50900e+03, 2.17800e+03, 2.99400e+03, 6.68290e-01, 1.00000e+00]])\n",
            "Saved ./cropped-tables/E - Glyphosate monograph (but it's only the pages with tables)_page_6_table_1.jpg\n",
            "Saved ./cropped-tables/E - Glyphosate monograph (but it's only the pages with tables)_page_6_table_2.jpg\n",
            "Boxes:  tensor([[2.60000e+02, 3.79000e+02, 3.04100e+03, 8.52000e+02, 6.19701e-01, 1.00000e+00],\n",
            "        [2.63000e+02, 1.11100e+03, 3.20100e+03, 2.04500e+03, 4.10759e-01, 1.00000e+00]])\n",
            "Saved ./cropped-tables/D - Table 47 (ultra complex)_page_6_table_1.jpg\n",
            "Saved ./cropped-tables/D - Table 47 (ultra complex)_page_6_table_2.jpg\n",
            "Boxes:  tensor([[3.75000e+02, 1.83600e+03, 2.30100e+03, 2.00500e+03, 4.87570e-01, 0.00000e+00],\n",
            "        [3.72000e+02, 1.82100e+03, 2.16300e+03, 2.01200e+03, 4.26294e-01, 1.00000e+00]])\n",
            "Saved ./cropped-tables/A - Tables 11 and 21 (less complex)_page_1_table_1.jpg\n",
            "Saved ./cropped-tables/A - Tables 11 and 21 (less complex)_page_1_table_2.jpg\n",
            "Boxes:  tensor([[2.53000e+02, 0.00000e+00, 3.00500e+03, 2.33800e+03, 6.27964e-01, 1.00000e+00]])\n",
            "Saved ./cropped-tables/D - Table 47 (ultra complex)_page_4_table_1.jpg\n",
            "Boxes:  tensor([[3.65000e+02, 2.06800e+03, 2.17500e+03, 2.74000e+03, 9.30122e-01, 1.00000e+00]])\n",
            "Saved ./cropped-tables/E - Glyphosate monograph (but it's only the pages with tables)_page_4_table_1.jpg\n",
            "Boxes:  tensor([[3.77000e+02, 2.14600e+03, 2.23600e+03, 2.33900e+03, 3.58200e-01, 0.00000e+00],\n",
            "        [3.73000e+02, 2.14300e+03, 2.16400e+03, 2.34700e+03, 2.55690e-01, 1.00000e+00]])\n",
            "Saved ./cropped-tables/E - Glyphosate monograph (but it's only the pages with tables)_page_19_table_1.jpg\n",
            "Saved ./cropped-tables/E - Glyphosate monograph (but it's only the pages with tables)_page_19_table_2.jpg\n",
            "Boxes:  tensor([[3.90000e+02, 1.80800e+03, 2.15800e+03, 2.35500e+03, 8.14568e-01, 1.00000e+00],\n",
            "        [3.88000e+02, 3.73000e+02, 2.18100e+03, 6.63000e+02, 3.04571e-01, 1.00000e+00],\n",
            "        [4.18000e+02, 3.97000e+02, 2.24700e+03, 6.67000e+02, 2.54863e-01, 0.00000e+00]])\n",
            "Saved ./cropped-tables/E - Glyphosate monograph (but it's only the pages with tables)_page_31_table_1.jpg\n",
            "Saved ./cropped-tables/E - Glyphosate monograph (but it's only the pages with tables)_page_31_table_2.jpg\n",
            "Saved ./cropped-tables/E - Glyphosate monograph (but it's only the pages with tables)_page_31_table_3.jpg\n",
            "Boxes:  tensor([[3.94000e+02, 1.09800e+03, 2.21000e+03, 1.30500e+03, 4.58148e-01, 0.00000e+00]])\n",
            "Saved ./cropped-tables/E - Glyphosate monograph (but it's only the pages with tables)_page_25_table_1.jpg\n",
            "Boxes:  tensor([[3.86000e+02, 1.00100e+03, 2.14900e+03, 1.41700e+03, 7.69773e-01, 1.00000e+00]])\n",
            "Saved ./cropped-tables/E - Glyphosate monograph (but it's only the pages with tables)_page_24_table_1.jpg\n",
            "Boxes:  tensor([[3.77000e+02, 1.19200e+03, 2.17500e+03, 1.40500e+03, 2.95248e-01, 1.00000e+00]])\n",
            "Saved ./cropped-tables/E - Glyphosate monograph (but it's only the pages with tables)_page_30_table_1.jpg\n",
            "Boxes:  tensor([[3.88000e+02, 2.14600e+03, 2.18000e+03, 2.73600e+03, 8.78313e-01, 1.00000e+00]])\n",
            "Saved ./cropped-tables/E - Glyphosate monograph (but it's only the pages with tables)_page_18_table_1.jpg\n",
            "Boxes:  tensor([[3.89000e+02, 2.75600e+03, 2.18100e+03, 3.30000e+03, 5.24647e-01, 1.00000e+00]])\n",
            "Saved ./cropped-tables/E - Glyphosate monograph (but it's only the pages with tables)_page_5_table_1.jpg\n",
            "Boxes:  tensor([[2.26000e+02, 0.00000e+00, 2.98500e+03, 2.23800e+03, 2.85041e-01, 1.00000e+00]])\n",
            "Saved ./cropped-tables/D - Table 47 (ultra complex)_page_5_table_1.jpg\n",
            "Boxes:  tensor([[3.94000e+02, 1.09800e+03, 2.21000e+03, 1.30500e+03, 4.58148e-01, 0.00000e+00]])\n",
            "Saved ./cropped-tables/A - Tables 11 and 21 (less complex)_page_2_table_1.jpg\n",
            "Boxes:  tensor([[3.63000e+02, 2.47900e+03, 2.13700e+03, 3.30000e+03, 7.96612e-01, 1.00000e+00]])\n",
            "Saved ./cropped-tables/E - Glyphosate monograph (but it's only the pages with tables)_page_1_table_1.jpg\n",
            "Boxes:  tensor([], size=(0, 6))\n",
            "Boxes:  tensor([[3.84000e+02, 1.19600e+03, 2.17600e+03, 1.80100e+03, 8.88684e-01, 1.00000e+00]])\n",
            "Saved ./cropped-tables/E - Glyphosate monograph (but it's only the pages with tables)_page_34_table_1.jpg\n",
            "Boxes:  tensor([[3.69000e+02, 4.46000e+02, 2.14700e+03, 8.75000e+02, 3.37515e-01, 0.00000e+00],\n",
            "        [3.67000e+02, 4.45000e+02, 2.14800e+03, 8.66000e+02, 2.84772e-01, 1.00000e+00]])\n",
            "Saved ./cropped-tables/E - Glyphosate monograph (but it's only the pages with tables)_page_20_table_1.jpg\n",
            "Saved ./cropped-tables/E - Glyphosate monograph (but it's only the pages with tables)_page_20_table_2.jpg\n",
            "Boxes:  tensor([[3.73000e+02, 1.52900e+03, 2.15500e+03, 1.97300e+03, 7.69978e-01, 1.00000e+00]])\n",
            "Saved ./cropped-tables/E - Glyphosate monograph (but it's only the pages with tables)_page_21_table_1.jpg\n",
            "Boxes:  tensor([[3.72000e+02, 1.41300e+03, 2.15300e+03, 2.93200e+03, 8.94623e-01, 1.00000e+00]])\n",
            "Saved ./cropped-tables/E - Glyphosate monograph (but it's only the pages with tables)_page_35_table_1.jpg\n",
            "Boxes:  tensor([[3.60000e+02, 3.78000e+02, 2.16600e+03, 3.00200e+03, 9.11838e-01, 1.00000e+00]])\n",
            "Saved ./cropped-tables/E - Glyphosate monograph (but it's only the pages with tables)_page_2_table_1.jpg\n",
            "Boxes:  tensor([[2.44000e+02, 0.00000e+00, 3.00700e+03, 2.13200e+03, 4.10161e-01, 1.00000e+00]])\n",
            "Saved ./cropped-tables/D - Table 47 (ultra complex)_page_2_table_1.jpg\n",
            "Boxes:  tensor([[3.70000e+02, 9.50000e+02, 2.15900e+03, 2.14300e+03, 9.08378e-01, 1.00000e+00]])\n",
            "Saved ./cropped-tables/E - Glyphosate monograph (but it's only the pages with tables)_page_23_table_1.jpg\n",
            "Boxes:  tensor([[3.64000e+02, 2.54000e+02, 2.16300e+03, 3.14300e+03, 8.70481e-01, 1.00000e+00]])\n",
            "Saved ./cropped-tables/E - Glyphosate monograph (but it's only the pages with tables)_page_37_table_1.jpg\n",
            "Boxes:  tensor([[3.65000e+02, 2.57000e+02, 2.16400e+03, 3.00400e+03, 9.02173e-01, 1.00000e+00]])\n",
            "Saved ./cropped-tables/E - Glyphosate monograph (but it's only the pages with tables)_page_36_table_1.jpg\n",
            "Boxes:  tensor([[4.11000e+02, 2.56200e+03, 2.28000e+03, 2.79500e+03, 8.13106e-01, 1.00000e+00]])\n",
            "Saved ./cropped-tables/E - Glyphosate monograph (but it's only the pages with tables)_page_22_table_1.jpg\n",
            "Boxes:  tensor([[2.46000e+02, 3.91000e+02, 3.04100e+03, 1.35100e+03, 5.86140e-01, 1.00000e+00],\n",
            "        [2.52000e+02, 1.48400e+03, 3.03400e+03, 2.03700e+03, 3.94473e-01, 1.00000e+00]])\n",
            "Saved ./cropped-tables/D - Table 47 (ultra complex)_page_3_table_1.jpg\n",
            "Saved ./cropped-tables/D - Table 47 (ultra complex)_page_3_table_2.jpg\n",
            "Boxes:  tensor([[3.68000e+02, 1.42300e+03, 2.17500e+03, 2.25900e+03, 8.75419e-01, 1.00000e+00],\n",
            "        [3.63000e+02, 3.44000e+02, 2.18200e+03, 6.59000e+02, 4.51715e-01, 1.00000e+00]])\n",
            "Saved ./cropped-tables/E - Glyphosate monograph (but it's only the pages with tables)_page_3_table_1.jpg\n",
            "Saved ./cropped-tables/E - Glyphosate monograph (but it's only the pages with tables)_page_3_table_2.jpg\n",
            "Boxes:  tensor([[3.74000e+02, 1.50000e+03, 2.18300e+03, 1.82700e+03, 3.81241e-01, 1.00000e+00]])\n",
            "Saved ./cropped-tables/C - Tables 19,25,33,52 (very complex)_page_7_table_1.jpg\n",
            "Boxes:  tensor([[3.66000e+02, 2.57000e+02, 2.14900e+03, 3.02300e+03, 9.15281e-01, 1.00000e+00]])\n",
            "Saved ./cropped-tables/E - Glyphosate monograph (but it's only the pages with tables)_page_45_table_1.jpg\n",
            "Boxes:  tensor([[3.87000e+02, 2.30800e+03, 2.18100e+03, 2.94300e+03, 7.94746e-01, 1.00000e+00]])\n",
            "Saved ./cropped-tables/E - Glyphosate monograph (but it's only the pages with tables)_page_51_table_1.jpg\n",
            "Boxes:  tensor([[3.74000e+02, 1.49400e+03, 2.12800e+03, 2.66700e+03, 8.50305e-01, 1.00000e+00]])\n",
            "Saved ./cropped-tables/E - Glyphosate monograph (but it's only the pages with tables)_page_50_table_1.jpg\n",
            "Boxes:  tensor([[3.68000e+02, 1.80600e+03, 2.16200e+03, 2.91400e+03, 8.51301e-01, 1.00000e+00]])\n",
            "Saved ./cropped-tables/E - Glyphosate monograph (but it's only the pages with tables)_page_44_table_1.jpg\n",
            "Boxes:  tensor([[3.65000e+02, 3.30000e+01, 2.15300e+03, 2.11700e+03, 7.69082e-01, 1.00000e+00],\n",
            "        [4.12000e+02, 2.14000e+03, 2.15700e+03, 2.32300e+03, 4.67591e-01, 1.00000e+00]])\n",
            "Saved ./cropped-tables/C - Tables 19,25,33,52 (very complex)_page_6_table_1.jpg\n",
            "Saved ./cropped-tables/C - Tables 19,25,33,52 (very complex)_page_6_table_2.jpg\n",
            "Boxes:  tensor([[3.65000e+02, 2.57000e+02, 2.16400e+03, 3.00400e+03, 9.02173e-01, 1.00000e+00]])\n",
            "Saved ./cropped-tables/C - Tables 19,25,33,52 (very complex)_page_4_table_1.jpg\n",
            "Boxes:  tensor([[3.87000e+02, 8.41000e+02, 2.18100e+03, 1.35300e+03, 5.90136e-01, 1.00000e+00]])\n",
            "Saved ./cropped-tables/E - Glyphosate monograph (but it's only the pages with tables)_page_52_table_1.jpg\n",
            "Boxes:  tensor([[3.70000e+02, 2.92000e+02, 2.14300e+03, 3.05000e+03, 9.23905e-01, 1.00000e+00]])\n",
            "Saved ./cropped-tables/E - Glyphosate monograph (but it's only the pages with tables)_page_46_table_1.jpg\n",
            "Boxes:  tensor([[3.67000e+02, 2.75000e+02, 2.15200e+03, 3.04200e+03, 9.14139e-01, 1.00000e+00]])\n",
            "Saved ./cropped-tables/E - Glyphosate monograph (but it's only the pages with tables)_page_47_table_1.jpg\n",
            "Boxes:  tensor([[3.71000e+02, 6.40000e+02, 2.17100e+03, 1.19900e+03, 8.82561e-01, 1.00000e+00]])\n",
            "Saved ./cropped-tables/E - Glyphosate monograph (but it's only the pages with tables)_page_53_table_1.jpg\n",
            "Boxes:  tensor([[3.64000e+02, 2.54000e+02, 2.16300e+03, 3.14300e+03, 8.70481e-01, 1.00000e+00]])\n",
            "Saved ./cropped-tables/C - Tables 19,25,33,52 (very complex)_page_5_table_1.jpg\n",
            "Boxes:  tensor([[3.90000e+02, 4.15000e+02, 2.17400e+03, 5.84000e+02, 6.45005e-01, 0.00000e+00]])\n",
            "Saved ./cropped-tables/E - Glyphosate monograph (but it's only the pages with tables)_page_57_table_1.jpg\n",
            "Boxes:  tensor([[3.73000e+02, 0.00000e+00, 2.13200e+03, 6.12000e+02, 5.45688e-01, 1.00000e+00]])\n",
            "Saved ./cropped-tables/E - Glyphosate monograph (but it's only the pages with tables)_page_43_table_1.jpg\n",
            "Boxes:  tensor([[3.70000e+02, 9.50000e+02, 2.15900e+03, 2.14300e+03, 9.08378e-01, 1.00000e+00]])\n",
            "Saved ./cropped-tables/C - Tables 19,25,33,52 (very complex)_page_1_table_1.jpg\n",
            "Boxes:  tensor([[3.59000e+02, 4.30000e+01, 2.17700e+03, 3.08500e+03, 6.64887e-01, 1.00000e+00]])\n",
            "Saved ./cropped-tables/E - Glyphosate monograph (but it's only the pages with tables)_page_42_table_1.jpg\n",
            "Boxes:  tensor([[3.80000e+02, 1.97500e+03, 2.13400e+03, 2.93500e+03, 9.32591e-01, 1.00000e+00]])\n",
            "Saved ./cropped-tables/E - Glyphosate monograph (but it's only the pages with tables)_page_56_table_1.jpg\n",
            "Boxes:  tensor([[3.64000e+02, 1.80700e+03, 2.16100e+03, 2.36900e+03, 8.22482e-01, 1.00000e+00]])\n",
            "Saved ./cropped-tables/B - Tables 13, 29, 36 (more complex)_page_1_table_1.jpg\n",
            "Boxes:  tensor([[3.74000e+02, 1.49400e+03, 2.12800e+03, 2.66700e+03, 8.50305e-01, 1.00000e+00]])\n",
            "Saved ./cropped-tables/B - Tables 13, 29, 36 (more complex)_page_3_table_1.jpg\n",
            "Boxes:  tensor([[3.65000e+02, 2.83000e+02, 2.17200e+03, 3.15200e+03, 9.12010e-01, 1.00000e+00]])\n",
            "Saved ./cropped-tables/E - Glyphosate monograph (but it's only the pages with tables)_page_40_table_1.jpg\n",
            "Boxes:  tensor([[3.98000e+02, 1.68200e+03, 2.15200e+03, 2.23800e+03, 8.83625e-01, 1.00000e+00]])\n",
            "Saved ./cropped-tables/E - Glyphosate monograph (but it's only the pages with tables)_page_54_table_1.jpg\n",
            "Boxes:  tensor([[2.49000e+02, 5.09000e+02, 3.01300e+03, 1.93800e+03, 5.81379e-01, 1.00000e+00]])\n",
            "Saved ./cropped-tables/E - Glyphosate monograph (but it's only the pages with tables)_page_68_table_1.jpg\n",
            "Boxes:  tensor([[3.78000e+02, 4.04000e+02, 2.15900e+03, 1.70800e+03, 9.14084e-01, 1.00000e+00]])\n",
            "Saved ./cropped-tables/C - Tables 19,25,33,52 (very complex)_page_2_table_1.jpg\n",
            "Boxes:  tensor([], size=(0, 6))\n",
            "Boxes:  tensor([[3.72000e+02, 1.41300e+03, 2.15300e+03, 2.93200e+03, 8.94623e-01, 1.00000e+00]])\n",
            "Saved ./cropped-tables/C - Tables 19,25,33,52 (very complex)_page_3_table_1.jpg\n",
            "Boxes:  tensor([[3.67000e+02, 3.74000e+02, 2.18200e+03, 1.06700e+03, 8.66636e-01, 1.00000e+00],\n",
            "        [3.87000e+02, 1.79600e+03, 2.15800e+03, 2.65600e+03, 8.45477e-01, 1.00000e+00]])\n",
            "Saved ./cropped-tables/E - Glyphosate monograph (but it's only the pages with tables)_page_55_table_1.jpg\n",
            "Saved ./cropped-tables/E - Glyphosate monograph (but it's only the pages with tables)_page_55_table_2.jpg\n",
            "Boxes:  tensor([[3.66000e+02, 2.90000e+02, 2.16300e+03, 3.03900e+03, 9.25799e-01, 1.00000e+00]])\n",
            "Saved ./cropped-tables/E - Glyphosate monograph (but it's only the pages with tables)_page_41_table_1.jpg\n",
            "Boxes:  tensor([[3.64000e+02, 9.70000e+02, 2.14500e+03, 1.40300e+03, 7.65585e-01, 1.00000e+00],\n",
            "        [3.65000e+02, 2.02800e+03, 2.18400e+03, 2.33000e+03, 3.12553e-01, 0.00000e+00]])\n",
            "Saved ./cropped-tables/B - Tables 13, 29, 36 (more complex)_page_2_table_1.jpg\n",
            "Saved ./cropped-tables/B - Tables 13, 29, 36 (more complex)_page_2_table_2.jpg\n"
          ]
        }
      ],
      "source": [
        "input_folder = \"./output-images\"\n",
        "output_folder = \"./cropped-tables\"\n",
        "process_all_images(input_folder, output_folder)"
      ]
    },
    {
      "cell_type": "markdown",
      "metadata": {},
      "source": [
        "# Convert table snippet to text using GPT4o vision"
      ]
    },
    {
      "cell_type": "code",
      "execution_count": 56,
      "metadata": {},
      "outputs": [],
      "source": [
        "from langchain_openai import AzureChatOpenAI\n",
        "import base64"
      ]
    },
    {
      "cell_type": "code",
      "execution_count": 57,
      "metadata": {},
      "outputs": [],
      "source": [
        "def encode_image(image_path):\n",
        "    with open(image_path, \"rb\") as image_file:\n",
        "        return base64.b64encode(image_file.read()).decode(\"utf-8\")"
      ]
    },
    {
      "cell_type": "code",
      "execution_count": 55,
      "metadata": {},
      "outputs": [],
      "source": [
        "llm = AzureChatOpenAI(\n",
        "    azure_deployment=\"science-gpt4o\",\n",
        "    api_version=\"2024-02-15-preview\",\n",
        ")"
      ]
    },
    {
      "cell_type": "markdown",
      "metadata": {},
      "source": [
        "## Generation for 1 table snippet"
      ]
    },
    {
      "cell_type": "code",
      "execution_count": 60,
      "metadata": {},
      "outputs": [
        {
          "name": "stdout",
          "output_type": "stream",
          "text": [
            "0 ppm | 3125 ppm | 6250 ppm | 12500 ppm | 25000 ppm | 50000 ppm\n",
            "--- | --- | --- | --- | --- | ---\n",
            "Males | 0/10 | 0/10 | 5/10 (1.0) | 9/10 (1.6) | 10/10 (2.8) | 10/10 (4.0)\n",
            "Females | 0/10 | 0/10 | 2/10 (1.0) | 9/10 (1.3) | 10/10 (2.4) | 10/10 (3.1)\n"
          ]
        }
      ],
      "source": [
        "IMAGE_PATH = \"cropped-tables/A - Tables 11 and 21 (less complex)_page_1_table_1.jpg\"\n",
        "\n",
        "base64_image = encode_image(IMAGE_PATH)\n",
        "\n",
        "prompt = \"\"\"\n",
        "I have a table snippet that I need to convert to text. Can you help me with that?\n",
        "\n",
        "Output Format:\n",
        "Column 1 | Column 2 | Column 3\n",
        "Data 1 | Data 2 | Data 3\n",
        "etc\n",
        "\n",
        "Output ONLY the table with no additional comments.\n",
        "\"\"\"\n",
        "messages = [\n",
        "    {\n",
        "        \"role\": \"system\",\n",
        "        \"content\": \"You are a helpful assistant that responds in Markdown.\",\n",
        "    },\n",
        "    {\n",
        "        \"role\": \"user\",\n",
        "        \"content\": [\n",
        "            {\"type\": \"text\", \"text\": prompt},\n",
        "            {\n",
        "                \"type\": \"image_url\",\n",
        "                \"image_url\": {\"url\": f\"data:image/png;base64,{base64_image}\"},\n",
        "            },\n",
        "        ],\n",
        "    },\n",
        "]\n",
        "ai_message = llm.invoke(messages)\n",
        "print(ai_message.content)"
      ]
    },
    {
      "cell_type": "markdown",
      "metadata": {},
      "source": [
        "## Generation for all table snippets"
      ]
    },
    {
      "cell_type": "code",
      "execution_count": 62,
      "metadata": {},
      "outputs": [],
      "source": [
        "def generate_table_text_from_directory(directory):\n",
        "    responses = []\n",
        "    for filename in os.listdir(directory):\n",
        "        if filename.endswith(\".jpg\") or filename.endswith(\".png\"):\n",
        "            image_path = os.path.join(directory, filename)\n",
        "            base64_image = encode_image(image_path)\n",
        "\n",
        "            prompt = \"\"\"\n",
        "            I have a table snippet that I need to convert to text. Can you help me with that?\n",
        "\n",
        "            Output Format:\n",
        "            Column 1 | Column 2 | Column 3\n",
        "            Data 1 | Data 2 | Data 3\n",
        "            etc\n",
        "\n",
        "            Output ONLY the table with no additional comments.\n",
        "            \"\"\"\n",
        "\n",
        "            messages = [\n",
        "                {\n",
        "                    \"role\": \"system\",\n",
        "                    \"content\": \"You are a helpful assistant that responds in Markdown.\",\n",
        "                },\n",
        "                {\n",
        "                    \"role\": \"user\",\n",
        "                    \"content\": [\n",
        "                        {\"type\": \"text\", \"text\": prompt},\n",
        "                        {\n",
        "                            \"type\": \"image_url\",\n",
        "                            \"image_url\": {\n",
        "                                \"url\": f\"data:image/png;base64,{base64_image}\"\n",
        "                            },\n",
        "                        },\n",
        "                    ],\n",
        "                },\n",
        "            ]\n",
        "\n",
        "            ai_message = llm.invoke(messages)\n",
        "            responses.append(ai_message.content)\n",
        "\n",
        "    return responses"
      ]
    },
    {
      "cell_type": "markdown",
      "metadata": {},
      "source": [
        "# CAUTION: ONLY RUN THIS IF YOU WANT TO CALL GPT4O ON ALL IMAGES IN THE CROPPED-TABLE DIR"
      ]
    },
    {
      "cell_type": "code",
      "execution_count": null,
      "metadata": {},
      "outputs": [],
      "source": [
        "# directory = \"path_to_your_directory\"\n",
        "# responses = process_images(directory)\n",
        "# for response in responses:\n",
        "#     print(response)"
      ]
    }
  ],
  "metadata": {
    "accelerator": "GPU",
    "colab": {
      "gpuType": "T4",
      "provenance": []
    },
    "kernelspec": {
      "display_name": "Python 3",
      "name": "python3"
    },
    "language_info": {
      "codemirror_mode": {
        "name": "ipython",
        "version": 3
      },
      "file_extension": ".py",
      "mimetype": "text/x-python",
      "name": "python",
      "nbconvert_exporter": "python",
      "pygments_lexer": "ipython3",
      "version": "3.9.0"
    }
  },
  "nbformat": 4,
  "nbformat_minor": 0
}
